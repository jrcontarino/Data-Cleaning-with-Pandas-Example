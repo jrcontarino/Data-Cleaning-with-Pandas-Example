{
 "cells": [
  {
   "cell_type": "markdown",
   "metadata": {},
   "source": [
    "# Data Cleaning using U.S. Census Data"
   ]
  },
  {
   "cell_type": "markdown",
   "metadata": {},
   "source": [
    "## Import Packages"
   ]
  },
  {
   "cell_type": "code",
   "execution_count": 1,
   "metadata": {},
   "outputs": [],
   "source": [
    "import pandas as pd\n",
    "import numpy as np\n",
    "import matplotlib.pyplot as plt\n",
    "import glob\n"
   ]
  },
  {
   "cell_type": "markdown",
   "metadata": {},
   "source": [
    "## Import Data and Inspect it"
   ]
  },
  {
   "cell_type": "code",
   "execution_count": 2,
   "metadata": {},
   "outputs": [
    {
     "name": "stdout",
     "output_type": "stream",
     "text": [
      "   Unnamed: 0       State  TotalPop             Hispanic                White  \\\n",
      "0           0     Alabama   4830620  3.7516156462584975%     61.878656462585%   \n",
      "1           1      Alaska    733375   5.909580838323351%  60.910179640718574%   \n",
      "2           2     Arizona   6641928  29.565921052631502%  57.120000000000026%   \n",
      "3           3    Arkansas   2958208   6.215474452554738%   71.13781021897813%   \n",
      "4           4  California  38421464  37.291874687968054%   40.21578881677474%   \n",
      "\n",
      "                 Black                Native                Asian  \\\n",
      "0   31.25297619047618%   0.4532312925170065%  1.0502551020408146%   \n",
      "1  2.8485029940119775%    16.39101796407186%   5.450299401197604%   \n",
      "2  3.8509868421052658%     4.35506578947368%   2.876578947368419%   \n",
      "3  18.968759124087573%   0.5229197080291965%  1.1423357664233578%   \n",
      "4   5.677396405391911%  0.40529206190713685%  13.052234148776776%   \n",
      "\n",
      "                Pacific              Income            GenderPop  \n",
      "0  0.03435374149659865%  $43296.35860306644    2341093M_2489527F  \n",
      "1   1.0586826347305378%  $70354.74390243902      384160M_349215F  \n",
      "2  0.16763157894736833%  $54207.82095490716    3299088M_3342840F  \n",
      "3  0.14686131386861315%  $41935.63396778917    1451913M_1506295F  \n",
      "4  0.35141038442336353%  $67264.78230266465  19087135M_19334329F  \n",
      "<class 'pandas.core.frame.DataFrame'>\n",
      "Int64Index: 60 entries, 0 to 5\n",
      "Data columns (total 11 columns):\n",
      " #   Column      Non-Null Count  Dtype \n",
      "---  ------      --------------  ----- \n",
      " 0   Unnamed: 0  60 non-null     int64 \n",
      " 1   State       60 non-null     object\n",
      " 2   TotalPop    60 non-null     int64 \n",
      " 3   Hispanic    60 non-null     object\n",
      " 4   White       60 non-null     object\n",
      " 5   Black       60 non-null     object\n",
      " 6   Native      60 non-null     object\n",
      " 7   Asian       60 non-null     object\n",
      " 8   Pacific     55 non-null     object\n",
      " 9   Income      60 non-null     object\n",
      " 10  GenderPop   60 non-null     object\n",
      "dtypes: int64(2), object(9)\n",
      "memory usage: 5.6+ KB\n",
      "None\n",
      "0                 Alabama\n",
      "1                  Alaska\n",
      "2                 Arizona\n",
      "3                Arkansas\n",
      "4              California\n",
      "5                Colorado\n",
      "0                Colorado\n",
      "1             Connecticut\n",
      "2                Delaware\n",
      "3    District of Columbia\n",
      "Name: State, dtype: object\n"
     ]
    }
   ],
   "source": [
    "files = glob.glob('states*.csv') #gather multiple state files into one list of data\n",
    "df_list = []\n",
    "for file in files:\n",
    "  data = pd.read_csv(file)\n",
    "  df_list.append(data)\n",
    "us_census = pd.concat(df_list)\n",
    "\n",
    "print(us_census.head()) #inspect first 5 rows of table\n",
    "print(us_census.info())\n",
    "#print(len(us_census)) # find number of entries in table\n",
    "#print(us_census.columns) #get column labels\n",
    "\n",
    "# print the first 10 rows in state to detect issue\n",
    "print(us_census['State'][:10])\n"
   ]
  },
  {
   "cell_type": "markdown",
   "metadata": {},
   "source": [
    "The combined dataframe has 11 columns and 60 rows on race/ethnicity populations in each state.  As this is data for states in the US, we know there is something wrong with the data if we have 60 entries for states and not 51 (the data includes Washington DC).  Looking at the state column we can see we have some repeated values that are causing this issue.  Also, the data types for some of the numerical columns are not in numerical formats and Gender and Population are combined into one column called \"GenderPop\""
   ]
  },
  {
   "cell_type": "markdown",
   "metadata": {},
   "source": [
    "## Let's start with the income column"
   ]
  },
  {
   "cell_type": "code",
   "execution_count": 3,
   "metadata": {},
   "outputs": [],
   "source": [
    "# Convert income column to numeric\n",
    "us_census[\"Income\"] = pd.to_numeric(us_census[\"Income\"].str.strip(\"($)\")) #must remove the $ before converting it"
   ]
  },
  {
   "cell_type": "markdown",
   "metadata": {},
   "source": [
    "## Next let's split the GenderPop column into 2 columns"
   ]
  },
  {
   "cell_type": "code",
   "execution_count": 4,
   "metadata": {
    "scrolled": true
   },
   "outputs": [
    {
     "name": "stdout",
     "output_type": "stream",
     "text": [
      "        State  TotalPop       Women       Men             Hispanic  \\\n",
      "0     Alabama   4830620   2489527.0   2341093  3.7516156462584975%   \n",
      "1      Alaska    733375    349215.0    384160   5.909580838323351%   \n",
      "2     Arizona   6641928   3342840.0   3299088  29.565921052631502%   \n",
      "3    Arkansas   2958208   1506295.0   1451913   6.215474452554738%   \n",
      "4  California  38421464  19334329.0  19087135  37.291874687968054%   \n",
      "\n",
      "                 White                Black                Native  \\\n",
      "0     61.878656462585%   31.25297619047618%   0.4532312925170065%   \n",
      "1  60.910179640718574%  2.8485029940119775%    16.39101796407186%   \n",
      "2  57.120000000000026%  3.8509868421052658%     4.35506578947368%   \n",
      "3   71.13781021897813%  18.968759124087573%   0.5229197080291965%   \n",
      "4   40.21578881677474%   5.677396405391911%  0.40529206190713685%   \n",
      "\n",
      "                 Asian               Pacific        Income  \n",
      "0  1.0502551020408146%  0.03435374149659865%  43296.358603  \n",
      "1   5.450299401197604%   1.0586826347305378%  70354.743902  \n",
      "2   2.876578947368419%  0.16763157894736833%  54207.820955  \n",
      "3  1.1423357664233578%  0.14686131386861315%  41935.633968  \n",
      "4  13.052234148776776%  0.35141038442336353%  67264.782303  \n"
     ]
    }
   ],
   "source": [
    "# The genders are split by _\n",
    "gender_pop = us_census[\"GenderPop\"]\n",
    "gender_pop_split = gender_pop.str.split(\"_\")\n",
    "#The first gender is Male the second Female\n",
    "us_census[\"Men\"] = gender_pop_split.str[0]\n",
    "us_census[\"Men\"] = us_census.Men.str.replace(\"M\", \"\") #get rid of the Male tag\n",
    "us_census[\"Women\"] = gender_pop_split.str[1]\n",
    "us_census[\"Women\"] = us_census.Women.str.replace(\"F\", \"\") #get rid of the Female tag\n",
    "\n",
    "# Convert these newly cleaned columns to numeric\n",
    "us_census.Men = pd.to_numeric(us_census.Men)\n",
    "us_census.Women = pd.to_numeric(us_census.Women)\n",
    "\n",
    "# Some of the women data is missing, but we can use the total and the men data to fill it\n",
    "us_census.Women = us_census.Women.fillna(us_census.TotalPop - us_census.Men)\n",
    "# Rearrange order of the columns for clearer reading\n",
    "us_census = us_census[['State', 'TotalPop', 'Women', 'Men', 'Hispanic', 'White', 'Black', 'Native', 'Asian', 'Pacific', 'Income']]\n",
    "print(us_census.head())"
   ]
  },
  {
   "cell_type": "markdown",
   "metadata": {},
   "source": [
    "We know have a Women and Men column for their respective populations."
   ]
  },
  {
   "cell_type": "markdown",
   "metadata": {},
   "source": [
    "## Next let's remove duplicates from the data"
   ]
  },
  {
   "cell_type": "code",
   "execution_count": 5,
   "metadata": {},
   "outputs": [
    {
     "name": "stdout",
     "output_type": "stream",
     "text": [
      "False    51\n",
      "dtype: int64\n"
     ]
    }
   ],
   "source": [
    "# Inspect Duplicates\n",
    "#print(us_census.sort_values(by = ['State']))\n",
    "\n",
    "# Drop duplicates by state\n",
    "us_census = us_census.drop_duplicates(subset=[\"State\"])\n",
    "duplicates = us_census.duplicated(subset=[\"State\"])\n",
    "print(duplicates.value_counts())"
   ]
  },
  {
   "cell_type": "markdown",
   "metadata": {},
   "source": [
    "We know have the desired amount of unique entries, 51."
   ]
  },
  {
   "cell_type": "markdown",
   "metadata": {},
   "source": [
    "## Now let's work on the remaining columns"
   ]
  },
  {
   "cell_type": "code",
   "execution_count": 6,
   "metadata": {},
   "outputs": [],
   "source": [
    "## Clean % from columns\n",
    "us_census.Hispanic = us_census.Hispanic.str.replace(\"%\", \"\")\n",
    "us_census.Hispanic = pd.to_numeric(us_census.Hispanic)\n",
    "us_census.White = us_census.White.str.replace(\"%\", \"\")\n",
    "us_census.White = pd.to_numeric(us_census.White)\n",
    "us_census.Black = us_census.Black.str.replace(\"%\", \"\")\n",
    "us_census.Black = pd.to_numeric(us_census.Black)\n",
    "us_census.Native = us_census.Native.str.replace(\"%\", \"\")\n",
    "us_census.Native = pd.to_numeric(us_census.Native)\n",
    "us_census.Asian = us_census.Asian.str.replace(\"%\", \"\")\n",
    "us_census.Asian = pd.to_numeric(us_census.Asian)\n",
    "us_census.Pacific = us_census.Pacific.str.replace(\"%\", \"\")\n",
    "us_census.Pacific = pd.to_numeric(us_census.Pacific)\n",
    "\n",
    "# Fill the missing data in Pacific with the remaining percent missing\n",
    "us_census.Pacific = us_census.Pacific.fillna(100 - (us_census.Hispanic + us_census.White + us_census.Black + us_census.Native + us_census.Asian))\n"
   ]
  },
  {
   "cell_type": "code",
   "execution_count": 7,
   "metadata": {},
   "outputs": [
    {
     "name": "stdout",
     "output_type": "stream",
     "text": [
      "        State  TotalPop       Women       Men   Hispanic      White  \\\n",
      "0     Alabama   4830620   2489527.0   2341093   3.751616  61.878656   \n",
      "1      Alaska    733375    349215.0    384160   5.909581  60.910180   \n",
      "2     Arizona   6641928   3342840.0   3299088  29.565921  57.120000   \n",
      "3    Arkansas   2958208   1506295.0   1451913   6.215474  71.137810   \n",
      "4  California  38421464  19334329.0  19087135  37.291875  40.215789   \n",
      "\n",
      "       Black     Native      Asian   Pacific        Income  \n",
      "0  31.252976   0.453231   1.050255  0.034354  43296.358603  \n",
      "1   2.848503  16.391018   5.450299  1.058683  70354.743902  \n",
      "2   3.850987   4.355066   2.876579  0.167632  54207.820955  \n",
      "3  18.968759   0.522920   1.142336  0.146861  41935.633968  \n",
      "4   5.677396   0.405292  13.052234  0.351410  67264.782303  \n",
      "State        object\n",
      "TotalPop      int64\n",
      "Women       float64\n",
      "Men           int64\n",
      "Hispanic    float64\n",
      "White       float64\n",
      "Black       float64\n",
      "Native      float64\n",
      "Asian       float64\n",
      "Pacific     float64\n",
      "Income      float64\n",
      "dtype: object\n"
     ]
    }
   ],
   "source": [
    "## Check the data is now clean and formatted as we want it\n",
    "print(us_census.head())\n",
    "print(us_census.dtypes)"
   ]
  },
  {
   "cell_type": "markdown",
   "metadata": {},
   "source": [
    "## Now that the data is clean we can make some visualizations with it"
   ]
  },
  {
   "cell_type": "code",
   "execution_count": 8,
   "metadata": {},
   "outputs": [
    {
     "data": {
      "image/png": "[encoded data removed]",
      "text/plain": [
       "<Figure size 432x288 with 1 Axes>"
      ]
     },
     "metadata": {
      "needs_background": "light"
     },
     "output_type": "display_data"
    },
    {
     "data": {
      "image/png": "[encoded data removed]",
      "text/plain": [
       "<Figure size 432x288 with 1 Axes>"
      ]
     },
     "metadata": {
      "needs_background": "light"
     },
     "output_type": "display_data"
    },
    {
     "data": {
      "image/png": "[encoded data removed]",
      "text/plain": [
       "<Figure size 432x288 with 1 Axes>"
      ]
     },
     "metadata": {
      "needs_background": "light"
     },
     "output_type": "display_data"
    },
    {
     "data": {
      "image/png": "[encoded data removed]",
      "text/plain": [
       "<Figure size 432x288 with 1 Axes>"
      ]
     },
     "metadata": {
      "needs_background": "light"
     },
     "output_type": "display_data"
    },
    {
     "data": {
      "image/png": "[encoded data removed]",
      "text/plain": [
       "<Figure size 432x288 with 1 Axes>"
      ]
     },
     "metadata": {
      "needs_background": "light"
     },
     "output_type": "display_data"
    },
    {
     "data": {
      "image/png": "[encoded data removed]",
      "text/plain": [
       "<Figure size 432x288 with 1 Axes>"
      ]
     },
     "metadata": {
      "needs_background": "light"
     },
     "output_type": "display_data"
    }
   ],
   "source": [
    "demographics = ['Hispanic', 'White', 'Black', 'Native', 'Asian', 'Pacific']\n",
    "\n",
    "plt.scatter(us_census.Women, us_census.Income)\n",
    "plt.title(\"Scatter Plot of Women Income\")\n",
    "plt.xlabel(\"Women\")\n",
    "plt.ylabel(\"Income\")\n",
    "\n",
    "plt.hist(us_census.Hispanic)\n",
    "plt.title(\"Hispanic Histogram\")\n",
    "plt.show()\n",
    "\n",
    "plt.hist(us_census.White)\n",
    "plt.title(\"White Histogram\")\n",
    "plt.show()\n",
    "\n",
    "plt.hist(us_census.Black)\n",
    "plt.title(\"Black Histogram\")\n",
    "plt.show()\n",
    "\n",
    "plt.hist(us_census.Native)\n",
    "plt.title(\"Native Histogram\")\n",
    "plt.show()\n",
    "\n",
    "plt.hist(us_census.Asian)\n",
    "plt.title(\"Asian Histogram\")\n",
    "plt.show()\n",
    "\n",
    "plt.hist(us_census.Pacific)\n",
    "plt.title(\"Pacific Histogram\")\n",
    "plt.show()"
   ]
  }
 ],
 "metadata": {
  "kernelspec": {
   "display_name": "Python 3",
   "language": "python",
   "name": "python3"
  },
  "language_info": {
   "codemirror_mode": {
    "name": "ipython",
    "version": 3
   },
   "file_extension": ".py",
   "mimetype": "text/x-python",
   "name": "python",
   "nbconvert_exporter": "python",
   "pygments_lexer": "ipython3",
   "version": "3.7.6"
  }
 },
 "nbformat": 4,
 "nbformat_minor": 4
}
